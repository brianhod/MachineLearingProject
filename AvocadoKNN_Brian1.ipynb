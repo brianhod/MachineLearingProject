{
 "cells": [
  {
   "cell_type": "code",
   "execution_count": 25,
   "id": "a7f5305e-8b51-4df5-b3ef-5717676261ea",
   "metadata": {},
   "outputs": [],
   "source": [
    "from sklearn.neighbors import KNeighborsRegressor\n",
    "from sklearn.metrics import mean_squared_error, mean_absolute_error\n",
    "from sklearn.model_selection import train_test_split\n",
    "from sklearn.metrics import accuracy_score\n",
    "import matplotlib.pyplot as plt\n",
    "from sklearn.model_selection import GridSearchCV\n",
    "from sklearn.model_selection import cross_val_score\n",
    "import numpy as np"
   ]
  },
  {
   "cell_type": "code",
   "execution_count": 26,
   "id": "d68553d8-3161-4819-be44-6ddb82287a3d",
   "metadata": {},
   "outputs": [],
   "source": [
    "np.random.seed(42)"
   ]
  },
  {
   "cell_type": "markdown",
   "id": "664ab1a0-bd34-4724-8941-2215501c0c72",
   "metadata": {},
   "source": [
    "## Daten laden"
   ]
  },
  {
   "cell_type": "code",
   "execution_count": 27,
   "id": "93dd772f-4e50-4b05-b091-22c3edf72423",
   "metadata": {},
   "outputs": [],
   "source": [
    "import pickle\n",
    "with open('data/train_test_data.pkl', 'rb') as f:\n",
    "    X_train, y_train, X_test, y_test = pickle.load(f)"
   ]
  },
  {
   "cell_type": "code",
   "execution_count": 28,
   "id": "8aad2a51-f318-48c6-bc23-433c50b0e642",
   "metadata": {},
   "outputs": [
    {
     "name": "stdout",
     "output_type": "stream",
     "text": [
      "   date_number  total_volume  type  dist_to_california  dist_to_mexico  \\\n",
      "2    -1.714542     -0.477527     1            0.618499        0.266866   \n",
      "3    -1.714542     -0.325751     0            0.618499        0.266866   \n",
      "4    -1.714542     -0.478220     1            0.578210       -0.074620   \n",
      "5    -1.714542     -0.293107     0            0.578210       -0.074620   \n",
      "6    -1.714542     -0.453108     1           -1.157557        0.620805   \n",
      "\n",
      "   region  Atlanta  Baltimore/Washington  Boston  California  ...  \\\n",
      "2     1.0        0                     0       0           0  ...   \n",
      "3     1.0        0                     0       0           0  ...   \n",
      "4     1.0        0                     0       0           0  ...   \n",
      "5     1.0        0                     0       0           0  ...   \n",
      "6     0.0        0                     0       0           0  ...   \n",
      "\n",
      "   Miami/Ft. Lauderdale  New York  Orlando  Philadelphia  Portland  \\\n",
      "2                     0         0        0             0         0   \n",
      "3                     0         0        0             0         0   \n",
      "4                     0         0        0             0         0   \n",
      "5                     0         0        0             0         0   \n",
      "6                     0         0        0             0         1   \n",
      "\n",
      "   Raleigh/Greensboro  Richmond/Norfolk  San Francisco  Seattle  Tampa  \n",
      "2                   0                 1              0        0      0  \n",
      "3                   0                 1              0        0      0  \n",
      "4                   1                 0              0        0      0  \n",
      "5                   1                 0              0        0      0  \n",
      "6                   0                 0              0        0      0  \n",
      "\n",
      "[5 rows x 22 columns]\n",
      "2    1.54\n",
      "3    1.13\n",
      "4    2.01\n",
      "5    1.20\n",
      "6    1.28\n",
      "Name: average_price, dtype: float64\n",
      "       date_number  total_volume  type  dist_to_california  dist_to_mexico  \\\n",
      "27862      1.75858      0.299537     0           -1.157557        0.620805   \n",
      "27863      1.75858     -0.455998     1           -1.157557        0.620805   \n",
      "27864      1.75858     -0.117886     0            0.578210       -0.074620   \n",
      "27866      1.75858     -0.170847     0            0.618499        0.266866   \n",
      "27867      1.75858     -0.457016     1            0.618499        0.266866   \n",
      "\n",
      "       region  Atlanta  Baltimore/Washington  Boston  California  ...  \\\n",
      "27862     0.0        0                     0       0           0  ...   \n",
      "27863     0.0        0                     0       0           0  ...   \n",
      "27864     1.0        0                     0       0           0  ...   \n",
      "27866     1.0        0                     0       0           0  ...   \n",
      "27867     1.0        0                     0       0           0  ...   \n",
      "\n",
      "       Miami/Ft. Lauderdale  New York  Orlando  Philadelphia  Portland  \\\n",
      "27862                     0         0        0             0         1   \n",
      "27863                     0         0        0             0         1   \n",
      "27864                     0         0        0             0         0   \n",
      "27866                     0         0        0             0         0   \n",
      "27867                     0         0        0             0         0   \n",
      "\n",
      "       Raleigh/Greensboro  Richmond/Norfolk  San Francisco  Seattle  Tampa  \n",
      "27862                   0                 0              0        0      0  \n",
      "27863                   0                 0              0        0      0  \n",
      "27864                   1                 0              0        0      0  \n",
      "27866                   0                 1              0        0      0  \n",
      "27867                   0                 1              0        0      0  \n",
      "\n",
      "[5 rows x 22 columns]\n",
      "27862    False\n",
      "27863    False\n",
      "27864    False\n",
      "27866    False\n",
      "27867    False\n",
      "         ...  \n",
      "33021    False\n",
      "33024    False\n",
      "33025    False\n",
      "33034    False\n",
      "33035    False\n",
      "Name: average_price, Length: 1536, dtype: bool\n"
     ]
    }
   ],
   "source": [
    "print(X_train.head())\n",
    "print(y_train.head())\n",
    "print(X_test.head())\n",
    "print(y_test.isnull())"
   ]
  },
  {
   "cell_type": "code",
   "execution_count": 29,
   "id": "a336667d-d1e5-411c-8a59-28c93d5b5184",
   "metadata": {},
   "outputs": [
    {
     "name": "stdout",
     "output_type": "stream",
     "text": [
      "date_number             0\n",
      "total_volume            0\n",
      "type                    0\n",
      "dist_to_california      0\n",
      "dist_to_mexico          0\n",
      "region                  0\n",
      "Atlanta                 0\n",
      "Baltimore/Washington    0\n",
      "Boston                  0\n",
      "California              0\n",
      "Hartford/Springfield    0\n",
      "Los Angeles             0\n",
      "Miami/Ft. Lauderdale    0\n",
      "New York                0\n",
      "Orlando                 0\n",
      "Philadelphia            0\n",
      "Portland                0\n",
      "Raleigh/Greensboro      0\n",
      "Richmond/Norfolk        0\n",
      "San Francisco           0\n",
      "Seattle                 0\n",
      "Tampa                   0\n",
      "dtype: int64 0 date_number             0\n",
      "total_volume            0\n",
      "type                    0\n",
      "dist_to_california      0\n",
      "dist_to_mexico          0\n",
      "region                  0\n",
      "Atlanta                 0\n",
      "Baltimore/Washington    0\n",
      "Boston                  0\n",
      "California              0\n",
      "Hartford/Springfield    0\n",
      "Los Angeles             0\n",
      "Miami/Ft. Lauderdale    0\n",
      "New York                0\n",
      "Orlando                 0\n",
      "Philadelphia            0\n",
      "Portland                0\n",
      "Raleigh/Greensboro      0\n",
      "Richmond/Norfolk        0\n",
      "San Francisco           0\n",
      "Seattle                 0\n",
      "Tampa                   0\n",
      "dtype: int64 0\n"
     ]
    }
   ],
   "source": [
    "print(X_train.isnull().sum(), y_train.isnull().sum(), X_test.isnull().sum(), y_test.isnull().sum())"
   ]
  },
  {
   "cell_type": "code",
   "execution_count": 30,
   "id": "24961b7b-d484-4977-a964-ec9e33482e12",
   "metadata": {},
   "outputs": [
    {
     "data": {
      "text/plain": [
       "Index(['date_number', 'total_volume', 'type', 'dist_to_california',\n",
       "       'dist_to_mexico', 'region', 'Atlanta', 'Baltimore/Washington', 'Boston',\n",
       "       'California', 'Hartford/Springfield', 'Los Angeles',\n",
       "       'Miami/Ft. Lauderdale', 'New York', 'Orlando', 'Philadelphia',\n",
       "       'Portland', 'Raleigh/Greensboro', 'Richmond/Norfolk', 'San Francisco',\n",
       "       'Seattle', 'Tampa'],\n",
       "      dtype='object')"
      ]
     },
     "execution_count": 30,
     "metadata": {},
     "output_type": "execute_result"
    }
   ],
   "source": [
    "X_train[:10]\n",
    "feature_names = X_train.columns\n",
    "feature_names"
   ]
  },
  {
   "cell_type": "markdown",
   "id": "70663625-1bd8-4fb7-a1ad-4488c8c6605b",
   "metadata": {},
   "source": [
    "# Training Modellen"
   ]
  },
  {
   "cell_type": "markdown",
   "id": "d62b2acb-3e8a-4701-944d-53feaf1833ad",
   "metadata": {},
   "source": [
    "### Test für verschiedene n_neighbors-Werte"
   ]
  },
  {
   "cell_type": "code",
   "execution_count": 31,
   "id": "bd17e29a-5be5-4c7e-8ae1-dfe5e6214697",
   "metadata": {},
   "outputs": [
    {
     "data": {
      "image/png": "[encoded data removed]",
      "text/plain": [
       "<Figure size 1000x600 with 1 Axes>"
      ]
     },
     "metadata": {},
     "output_type": "display_data"
    }
   ],
   "source": [
    "# Liste der zu versuchenden n_neighbors-Werte\n",
    "n_neighbors_range = np.arange(1, 100, 10)\n",
    "\n",
    "# Arrays zum Speichern von MSE-Werten für Trainings- und Testmengen\n",
    "train_mse_values = []\n",
    "test_mse_values = []\n",
    "\n",
    "# Schleife über die verschiedenen n_neighbors-Werte\n",
    "for n_neighbors in n_neighbors_range:\n",
    "    # Erstellen und Anpassen des KNN-Modells\n",
    "    knn = KNeighborsRegressor(n_neighbors=n_neighbors)\n",
    "    knn.fit(X_train, y_train)\n",
    "    \n",
    "    # Vorhersage/Predict  für die Trainingsmenge und Berechnung des MSE\n",
    "    y_train_pred = knn.predict(X_train)\n",
    "    train_mse = mean_squared_error(y_train, y_train_pred)\n",
    "    train_mse_values.append(train_mse)\n",
    "    \n",
    "    # Vorhersage/Predict  für die Testmenge und Berechnung des MSE\n",
    "    y_test_pred = knn.predict(X_test)\n",
    "    test_mse = mean_squared_error(y_test, y_test_pred)\n",
    "    test_mse_values.append(test_mse)\n",
    "\n",
    "# Plotting / Aufzeichnung der MSEs von Training und Test\n",
    "plt.figure(figsize=(10, 6))\n",
    "plt.plot(n_neighbors_range, train_mse_values, label=\"Train MSE\", marker='o', color='blue')\n",
    "plt.plot(n_neighbors_range, test_mse_values, label=\"Test MSE\", marker='o', color='red')\n",
    "\n",
    "plt.title('Overfitting vs Underfitting: MSE vs n_neighbors')\n",
    "plt.xlabel('Number of Neighbors (n_neighbors)')\n",
    "plt.ylabel('Mean Squared Error (MSE)')\n",
    "plt.legend()\n",
    "\n",
    "plt.show()\n"
   ]
  },
  {
   "cell_type": "markdown",
   "id": "c44a562d-839d-457e-a2cb-6bff8f604848",
   "metadata": {},
   "source": [
    "## Der optimale Wert für Overfitting und Underfitting ist 45"
   ]
  },
  {
   "cell_type": "markdown",
   "id": "f60ce8d9-332a-49cc-bf48-66b083d24ce4",
   "metadata": {},
   "source": [
    "## mit Kombinationen von verschiedenen Parametern "
   ]
  },
  {
   "cell_type": "code",
   "execution_count": 32,
   "id": "9036a540-37e8-44dd-8eb9-d4e9aafb223c",
   "metadata": {},
   "outputs": [
    {
     "name": "stdout",
     "output_type": "stream",
     "text": [
      "Beste Parameter: {'n_neighbors': 91, 'weights': 'distance', 'algorithm': 'auto', 'p': 1}\n",
      "Geringster mittlerer quadratischer Fehler: 0.04343028726665565\n"
     ]
    }
   ],
   "source": [
    "n_neighbors_values = np.arange(1, 100, 10)\n",
    "weights_values = ['uniform', 'distance']\n",
    "algorithm_values = ['auto', 'ball_tree', 'kd_tree', 'brute']\n",
    "p_values = [1, 2]  # p=1 -> Manhattan, p=2 -> Euclidean\n",
    " \n",
    "best_params = None\n",
    "lowest_error = float('inf')\n",
    "\n",
    "#  Schleife über alle Kombinationen von Hyperparametern\n",
    "for n_neighbors in n_neighbors_values:\n",
    "    for weights in weights_values:\n",
    "        for algorithm in algorithm_values:\n",
    "            for p in p_values:\n",
    "                #  fit KNN model\n",
    "                knn_regressor = KNeighborsRegressor(n_neighbors=n_neighbors, weights=weights, algorithm=algorithm, p=p)\n",
    "                knn_regressor.fit(X_train, y_train)\n",
    "\n",
    "                # Predict test set und mean squared error\n",
    "                y_pred = knn_regressor.predict(X_test)\n",
    "                mse = mean_squared_error(y_test, y_pred)\n",
    "\n",
    "                # Wenn das aktuelle Modell den geringsten Fehler aufweist, aktualisieren Sie die besten Parameter\n",
    "                if mse < lowest_error:\n",
    "                    lowest_error = mse\n",
    "                    best_params = {\n",
    "                        'n_neighbors': n_neighbors,\n",
    "                        'weights': weights,\n",
    "                        'algorithm': algorithm,\n",
    "                        'p': p\n",
    "                    }\n",
    "\n",
    "# Ausgabe der besten Hyperparameter und des geringsten Fehlers\n",
    "print(\"Beste Parameter:\", best_params)\n",
    "print(\"Geringster mittlerer quadratischer Fehler:\", lowest_error)"
   ]
  },
  {
   "cell_type": "markdown",
   "id": "b0cadfaa-ad2a-4b1d-a51d-423525bed5df",
   "metadata": {},
   "source": [
    "##### Versucht mit oben mit verschiedenen Werten und anderen Parametern, die beste, was ich sehen konnte, ist, wenn n_neighhnors = 45, mit obigen Diagramm"
   ]
  },
  {
   "cell_type": "code",
   "execution_count": 33,
   "id": "4eff0a4e-64db-4be2-b461-dca4f771e0f3",
   "metadata": {},
   "outputs": [],
   "source": [
    "# Define the KNN model\n",
    "#  erster Versuch mit n_neighbors=3 manuell dann mit obigem Diagramm, um die besten Nachbarn zu finden\n",
    "knn_model = KNeighborsRegressor(n_neighbors=45) \n",
    "#n_neighbors: Die Anzahl der zu verwendenden Nachbarn (der Wert von K\n",
    "#weights: Wie die Nachbarn bei Vorhersagen gewichtet werden sollen\n",
    "#uniform: Alle Nachbarn werden gleich gewichtet (Standard).\n",
    "#distance: Näher gelegene Nachbarn werden stärker gewichtet (gewichtet mit dem Kehrwert ihrer Entfernung).\n",
    "# weights='distance'."
   ]
  },
  {
   "cell_type": "code",
   "execution_count": 34,
   "id": "618044d1-8e29-4629-a88d-1a3939bfb738",
   "metadata": {},
   "outputs": [
    {
     "data": {
      "text/html": [
       "<style>#sk-container-id-2 {color: black;background-color: white;}#sk-container-id-2 pre{padding: 0;}#sk-container-id-2 div.sk-toggleable {background-color: white;}#sk-container-id-2 label.sk-toggleable__label {cursor: pointer;display: block;width: 100%;margin-bottom: 0;padding: 0.3em;box-sizing: border-box;text-align: center;}#sk-container-id-2 label.sk-toggleable__label-arrow:before {content: \"▸\";float: left;margin-right: 0.25em;color: #696969;}#sk-container-id-2 label.sk-toggleable__label-arrow:hover:before {color: black;}#sk-container-id-2 div.sk-estimator:hover label.sk-toggleable__label-arrow:before {color: black;}#sk-container-id-2 div.sk-toggleable__content {max-height: 0;max-width: 0;overflow: hidden;text-align: left;background-color: #f0f8ff;}#sk-container-id-2 div.sk-toggleable__content pre {margin: 0.2em;color: black;border-radius: 0.25em;background-color: #f0f8ff;}#sk-container-id-2 input.sk-toggleable__control:checked~div.sk-toggleable__content {max-height: 200px;max-width: 100%;overflow: auto;}#sk-container-id-2 input.sk-toggleable__control:checked~label.sk-toggleable__label-arrow:before {content: \"▾\";}#sk-container-id-2 div.sk-estimator input.sk-toggleable__control:checked~label.sk-toggleable__label {background-color: #d4ebff;}#sk-container-id-2 div.sk-label input.sk-toggleable__control:checked~label.sk-toggleable__label {background-color: #d4ebff;}#sk-container-id-2 input.sk-hidden--visually {border: 0;clip: rect(1px 1px 1px 1px);clip: rect(1px, 1px, 1px, 1px);height: 1px;margin: -1px;overflow: hidden;padding: 0;position: absolute;width: 1px;}#sk-container-id-2 div.sk-estimator {font-family: monospace;background-color: #f0f8ff;border: 1px dotted black;border-radius: 0.25em;box-sizing: border-box;margin-bottom: 0.5em;}#sk-container-id-2 div.sk-estimator:hover {background-color: #d4ebff;}#sk-container-id-2 div.sk-parallel-item::after {content: \"\";width: 100%;border-bottom: 1px solid gray;flex-grow: 1;}#sk-container-id-2 div.sk-label:hover label.sk-toggleable__label {background-color: #d4ebff;}#sk-container-id-2 div.sk-serial::before {content: \"\";position: absolute;border-left: 1px solid gray;box-sizing: border-box;top: 0;bottom: 0;left: 50%;z-index: 0;}#sk-container-id-2 div.sk-serial {display: flex;flex-direction: column;align-items: center;background-color: white;padding-right: 0.2em;padding-left: 0.2em;position: relative;}#sk-container-id-2 div.sk-item {position: relative;z-index: 1;}#sk-container-id-2 div.sk-parallel {display: flex;align-items: stretch;justify-content: center;background-color: white;position: relative;}#sk-container-id-2 div.sk-item::before, #sk-container-id-2 div.sk-parallel-item::before {content: \"\";position: absolute;border-left: 1px solid gray;box-sizing: border-box;top: 0;bottom: 0;left: 50%;z-index: -1;}#sk-container-id-2 div.sk-parallel-item {display: flex;flex-direction: column;z-index: 1;position: relative;background-color: white;}#sk-container-id-2 div.sk-parallel-item:first-child::after {align-self: flex-end;width: 50%;}#sk-container-id-2 div.sk-parallel-item:last-child::after {align-self: flex-start;width: 50%;}#sk-container-id-2 div.sk-parallel-item:only-child::after {width: 0;}#sk-container-id-2 div.sk-dashed-wrapped {border: 1px dashed gray;margin: 0 0.4em 0.5em 0.4em;box-sizing: border-box;padding-bottom: 0.4em;background-color: white;}#sk-container-id-2 div.sk-label label {font-family: monospace;font-weight: bold;display: inline-block;line-height: 1.2em;}#sk-container-id-2 div.sk-label-container {text-align: center;}#sk-container-id-2 div.sk-container {/* jupyter's `normalize.less` sets `[hidden] { display: none; }` but bootstrap.min.css set `[hidden] { display: none !important; }` so we also need the `!important` here to be able to override the default hidden behavior on the sphinx rendered scikit-learn.org. See: https://github.com/scikit-learn/scikit-learn/issues/21755 */display: inline-block !important;position: relative;}#sk-container-id-2 div.sk-text-repr-fallback {display: none;}</style><div id=\"sk-container-id-2\" class=\"sk-top-container\"><div class=\"sk-text-repr-fallback\"><pre>KNeighborsRegressor(n_neighbors=45)</pre><b>In a Jupyter environment, please rerun this cell to show the HTML representation or trust the notebook. <br />On GitHub, the HTML representation is unable to render, please try loading this page with nbviewer.org.</b></div><div class=\"sk-container\" hidden><div class=\"sk-item\"><div class=\"sk-estimator sk-toggleable\"><input class=\"sk-toggleable__control sk-hidden--visually\" id=\"sk-estimator-id-2\" type=\"checkbox\" checked><label for=\"sk-estimator-id-2\" class=\"sk-toggleable__label sk-toggleable__label-arrow\">KNeighborsRegressor</label><div class=\"sk-toggleable__content\"><pre>KNeighborsRegressor(n_neighbors=45)</pre></div></div></div></div></div>"
      ],
      "text/plain": [
       "KNeighborsRegressor(n_neighbors=45)"
      ]
     },
     "execution_count": 34,
     "metadata": {},
     "output_type": "execute_result"
    }
   ],
   "source": [
    "# Trainieren Sie das KNN-Modell anhand der Trainingsdaten\n",
    "knn_model.fit(X_train, y_train)"
   ]
  },
  {
   "cell_type": "code",
   "execution_count": 35,
   "id": "408bd9db-bb3a-4ece-b974-b9b58a421c6e",
   "metadata": {},
   "outputs": [],
   "source": [
    "# Vorhersage für Trainings- und Testreihen\n",
    "y_train_pred = knn_model.predict(X_train)\n",
    "y_test_pred = knn_model.predict(X_test)"
   ]
  },
  {
   "cell_type": "code",
   "execution_count": 36,
   "id": "4247303f-012d-4909-9297-9c0bb1dd8d85",
   "metadata": {},
   "outputs": [],
   "source": [
    "# Berechnen der Metriken für die Trainingsmenge\n",
    "train_mae = mean_absolute_error(y_train, y_train_pred)\n",
    "train_mse = mean_squared_error(y_train, y_train_pred)\n",
    "train_rmse = np.sqrt(train_mse)"
   ]
  },
  {
   "cell_type": "code",
   "execution_count": 37,
   "id": "0392cc57-8338-4afa-a31d-6c35eeb8855d",
   "metadata": {},
   "outputs": [],
   "source": [
    "#  Berechnung der Metriken für den Testsatz\n",
    "test_mae = mean_absolute_error(y_test, y_test_pred)\n",
    "test_mse = mean_squared_error(y_test, y_test_pred)\n",
    "test_rmse = np.sqrt(test_mse)"
   ]
  },
  {
   "cell_type": "code",
   "execution_count": 38,
   "id": "aa271675-71e0-499d-885f-08c625e6ea6d",
   "metadata": {},
   "outputs": [
    {
     "data": {
      "text/plain": [
       "{'train_mae': 0.15329406223083547,\n",
       " 'train_mse': 0.04392527616877213,\n",
       " 'train_rmse': 0.20958357800355476,\n",
       " 'test_mae': 0.17283434606481482,\n",
       " 'test_mse': 0.05170845122813786,\n",
       " 'test_rmse': 0.22739492348805385}"
      ]
     },
     "execution_count": 38,
     "metadata": {},
     "output_type": "execute_result"
    }
   ],
   "source": [
    "knn_results = {\n",
    "    \"train_mae\": train_mae,\n",
    "    \"train_mse\": train_mse,\n",
    "    \"train_rmse\": train_rmse,\n",
    "    \"test_mae\": test_mae,\n",
    "    \"test_mse\": test_mse,\n",
    "    \"test_rmse\": test_rmse\n",
    "}\n",
    "knn_results"
   ]
  },
  {
   "cell_type": "code",
   "execution_count": 39,
   "id": "4b5e3d45-1dd1-4bfe-b9f9-209eb445afa5",
   "metadata": {},
   "outputs": [],
   "source": [
    "#Die Trainingsfehler (MAE, MSE, RMSE) sind etwas geringer als die Testfehler, \n",
    "#was zu erwarten ist und auf eine recht gute Anpassung hinweist. \n",
    "#Der Unterschied zwischen Trainings- und Testfehlern ist nicht allzu groß,\n",
    "#was darauf hindeutet, dass das Modell recht gut verallgemeinert.\n",
    "#MAE und RMSE sind bei der Testmenge höher als bei der Trainingsmenge, aber nicht sehr viel, \n",
    "#was bedeutet, dass das Modell keine signifikante Überanpassung aufweist."
   ]
  },
  {
   "cell_type": "code",
   "execution_count": 40,
   "id": "b8350a9c-ee03-46a9-82d4-04599a70daf5",
   "metadata": {},
   "outputs": [
    {
     "name": "stdout",
     "output_type": "stream",
     "text": [
      "Training R² Score: 0.7395726697961976\n"
     ]
    }
   ],
   "source": [
    "# Berechnen Sie den R²-Wert für die Trainingsdaten\n",
    "train_r2 = knn_model.score(X_train, y_train)\n",
    "print(f\"Training R² Score: {train_r2}\")"
   ]
  },
  {
   "cell_type": "code",
   "execution_count": 41,
   "id": "0c38e44d-d87a-4d84-ad48-922905a2438c",
   "metadata": {},
   "outputs": [
    {
     "name": "stdout",
     "output_type": "stream",
     "text": [
      "Test R² Score: 0.5882182020212946\n"
     ]
    }
   ],
   "source": [
    "# Berechnen Sie den R²-Wert für Testdaten\n",
    "test_r2 = knn_model.score(X_test, y_test)\n",
    "print(f\"Test R² Score: {test_r2}\")"
   ]
  },
  {
   "cell_type": "markdown",
   "id": "bb79d973-34f0-43e9-aa97-a6261eb85a56",
   "metadata": {},
   "source": [
    " Cross Validation"
   ]
  },
  {
   "cell_type": "markdown",
   "id": "3e61662e-1812-447d-bc2d-8da5b73becea",
   "metadata": {},
   "source": [
    "###### Die Cross Validation ist eine Technik zur Bewertung der Leistung und Verallgemeinerungsfähigkeit eines Modells. Anstatt die Daten einmal in Trainings- und Testsätze aufzuteilen, werden die Daten bei der Kreuzvalidierung mehrfach aufgeteilt, wobei das Modell auf verschiedenen Teilmengen der Daten trainiert und auf den verbleibenden Teilen bewertet wird. Dies trägt zu einer zuverlässigeren Schätzung der Leistung des Modells bei und verringert das Risiko einer Über- oder Unteranpassung."
   ]
  },
  {
   "cell_type": "code",
   "execution_count": 42,
   "id": "35327651-7526-4a25-9cb6-6890b7037546",
   "metadata": {},
   "outputs": [
    {
     "name": "stdout",
     "output_type": "stream",
     "text": [
      "Mittelwert aller Teil-MSE-Scores (KNN): 0.036248249334981573 _____ Standardabweichung: 0.010881550247187606\n"
     ]
    }
   ],
   "source": [
    "cv_test_mse3 = -cross_val_score(knn_model, X_test, y_test,\n",
    "scoring=\"neg_mean_squared_error\", cv=5)\n",
    "\n",
    "print(\"Mittelwert aller Teil-MSE-Scores (KNN):\",cv_test_mse3.mean(),\n",
    "\"_____ Standardabweichung:\",cv_test_mse3.std())"
   ]
  },
  {
   "cell_type": "code",
   "execution_count": null,
   "id": "aaa7331a-17d3-4950-b523-0490802d837b",
   "metadata": {},
   "outputs": [],
   "source": [
    "cv_Train_mse3 = -cross_val_score(knn_model, X_train, y_train,\n",
    "scoring=\"neg_mean_squared_error\", cv=5)\n",
    "\n",
    "\n",
    "print(\"Mittelwert aller Teil-MSE-Scores (KNN):\",cv_Train_mse3.mean(),\n",
    "\"_____ Standardabweichung:\",cv_Train_mse3.std())"
   ]
  },
  {
   "cell_type": "markdown",
   "id": "8a8dc744-d7a5-48ed-a39b-4992c56b7b87",
   "metadata": {},
   "source": [
    "Grid Search"
   ]
  },
  {
   "cell_type": "markdown",
   "id": "caab977e-aad0-4e20-91f3-4cbbce0da05b",
   "metadata": {},
   "source": [
    "GridSearchCV: Es führt eine 5-fache Kreuzvalidierung für jeden Wert von n_neighbors durch und bewertet das Modell anhand des R²-Scores\n",
    "Ein Raster mit verschiedenen Werten für einen oder mehrere Hyperparameter, und GridSearchCV bewertet alle möglichen Kombinationen dieser Werte, um den besten zu finden."
   ]
  },
  {
   "cell_type": "code",
   "execution_count": 43,
   "id": "bf03707c-6ac9-4f90-b70e-cf57a4c374e0",
   "metadata": {},
   "outputs": [
    {
     "name": "stdout",
     "output_type": "stream",
     "text": [
      "Fitting 10 folds for each of 20 candidates, totalling 200 fits\n",
      "Best Hyperparameters: {'n_neighbors': 5, 'p': 1, 'weights': 'distance'}\n",
      "Best Score: -0.06522350223999021\n",
      "Test R² Score with Best KNN: 0.6602910208524057\n"
     ]
    }
   ],
   "source": [
    "# Definieren Sie das zu durchsuchende Hyperparametergitter\n",
    "\n",
    "param_grid = {\n",
    "    'n_neighbors': [3, 5, 7, 9,45],      # Number of neighbors\n",
    "    'weights': ['uniform', 'distance'],  # How to weight the neighbors\n",
    "    'p': [1, 2]                        # Distance metric: 1=Manhattan, 2=Euclidean\n",
    "}\n",
    "\n",
    "# Erstellen Sie das KNN-Modell\n",
    "knn = KNeighborsRegressor()\n",
    "\n",
    "# GridSearchCV mit 5-facher Kreuzvalidierung einrichten\n",
    "grid_search = GridSearchCV(knn, param_grid, cv=10, scoring='neg_mean_squared_error', verbose=1)\n",
    "\n",
    "# Anpassen der Rastersuche an die Daten\n",
    "grid_search.fit(X_train, y_train)\n",
    "\n",
    "# Beste Hyperparameter\n",
    "print(\"Best Hyperparameters:\", grid_search.best_params_)\n",
    "\n",
    "# Bestes Ergebnis (negativer MSE, Sie können den absoluten Wert dieses Wertes nehmen)\n",
    "print(\"Best Score:\", grid_search.best_score_)\n",
    "\n",
    "#Auswertung der Testmenge mit dem besten Modell\n",
    "best_knn = grid_search.best_estimator_\n",
    "test_score = best_knn.score(X_test, y_test)\n",
    "print(\"Test R² Score with Best KNN:\", test_score)\n"
   ]
  },
  {
   "cell_type": "code",
   "execution_count": null,
   "id": "6867813d-72a1-4def-b87e-667d534b751b",
   "metadata": {},
   "outputs": [],
   "source": []
  }
 ],
 "metadata": {
  "kernelspec": {
   "display_name": "Python 3 (ipykernel)",
   "language": "python",
   "name": "python3"
  },
  "language_info": {
   "codemirror_mode": {
    "name": "ipython",
    "version": 3
   },
   "file_extension": ".py",
   "mimetype": "text/x-python",
   "name": "python",
   "nbconvert_exporter": "python",
   "pygments_lexer": "ipython3",
   "version": "3.11.7"
  }
 },
 "nbformat": 4,
 "nbformat_minor": 5
}
